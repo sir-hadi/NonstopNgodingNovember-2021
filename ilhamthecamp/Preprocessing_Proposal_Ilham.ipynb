{
  "nbformat": 4,
  "nbformat_minor": 0,
  "metadata": {
    "colab": {
      "name": "Preprocessing Proposal Ilham.ipynb",
      "provenance": []
    },
    "kernelspec": {
      "name": "python3",
      "display_name": "Python 3"
    },
    "language_info": {
      "name": "python"
    }
  },
  "cells": [
    {
      "cell_type": "code",
      "metadata": {
        "colab": {
          "base_uri": "https://localhost:8080/"
        },
        "id": "p_GZQKAHSK0y",
        "outputId": "588064b9-fa10-4124-a627-45c1e4371550"
      },
      "source": [
        "!pip install Sastrawi"
      ],
      "execution_count": null,
      "outputs": [
        {
          "output_type": "stream",
          "name": "stdout",
          "text": [
            "Requirement already satisfied: Sastrawi in /usr/local/lib/python3.7/dist-packages (1.0.1)\n"
          ]
        }
      ]
    },
    {
      "cell_type": "code",
      "metadata": {
        "colab": {
          "base_uri": "https://localhost:8080/"
        },
        "id": "hyPeufD3O1td",
        "outputId": "1ae037af-8a12-456c-d27e-1b6a09dc7550"
      },
      "source": [
        "import nltk # Library nltk\n",
        "import string # Library string\n",
        "import re # Library regex\n",
        "# Impor word_tokenize dari NLTK\n",
        "from nltk.tokenize import word_tokenize\n",
        "nltk.download('punkt') \n",
        "\n",
        "# import StemmerFactory class\n",
        "from Sastrawi.Stemmer.StemmerFactory import StemmerFactory"
      ],
      "execution_count": null,
      "outputs": [
        {
          "output_type": "stream",
          "name": "stdout",
          "text": [
            "[nltk_data] Downloading package punkt to /root/nltk_data...\n",
            "[nltk_data]   Package punkt is already up-to-date!\n"
          ]
        }
      ]
    },
    {
      "cell_type": "markdown",
      "metadata": {
        "id": "FQ0Q-c4tWxFJ"
      },
      "source": [
        "Case Folding"
      ]
    },
    {
      "cell_type": "code",
      "metadata": {
        "colab": {
          "base_uri": "https://localhost:8080/"
        },
        "id": "teWrXuqLPDpV",
        "outputId": "973b2366-55c5-456a-a090-2bbb7d7c33c8"
      },
      "source": [
        "# Kalimat input\n",
        "kalimat = \"“Mereka bertanya,” Bagaimana keadaanmu? “Tapi sebenarnya yang mereka maksud adalah” Apakah Anda sudah mengatasinya? “Bibir saya berkata,” Baik, terima kasih “, tapi mataku menceritakan cerita yang berbeda, hatiku bernyanyi Selaras, dan jiwaku hanya menangis.\"\n",
        "print('Kalimat asli : \\n')\n",
        "print(kalimat)\n",
        "print('\\n')\n",
        "# ------ Operasi Case Folding --------\n",
        "# Mengubah huruf kapital menjadi huruf kecil dengan fungsi .lower() \n",
        "kalimat_lowercase = kalimat.lower()\n",
        "print('Hasil Case Folding : \\n')\n",
        "print(kalimat_lowercase)"
      ],
      "execution_count": null,
      "outputs": [
        {
          "output_type": "stream",
          "name": "stdout",
          "text": [
            "Kalimat asli : \n",
            "\n",
            "“Mereka bertanya,” Bagaimana keadaanmu? “Tapi sebenarnya yang mereka maksud adalah” Apakah Anda sudah mengatasinya? “Bibir saya berkata,” Baik, terima kasih “, tapi mataku menceritakan cerita yang berbeda, hatiku bernyanyi Selaras, dan jiwaku hanya menangis.\n",
            "\n",
            "\n",
            "Hasil Case Folding : \n",
            "\n",
            "“mereka bertanya,” bagaimana keadaanmu? “tapi sebenarnya yang mereka maksud adalah” apakah anda sudah mengatasinya? “bibir saya berkata,” baik, terima kasih “, tapi mataku menceritakan cerita yang berbeda, hatiku bernyanyi selaras, dan jiwaku hanya menangis.\n"
          ]
        }
      ]
    },
    {
      "cell_type": "markdown",
      "metadata": {
        "id": "xnEGgMrGXZGi"
      },
      "source": [
        "Removal Punctuation"
      ]
    },
    {
      "cell_type": "code",
      "metadata": {
        "colab": {
          "base_uri": "https://localhost:8080/"
        },
        "id": "E3tGwo_HRGDg",
        "outputId": "292e74b8-e9a8-47a9-c1ee-128b8b3c0085"
      },
      "source": [
        "string = kalimat_lowercase\n",
        "# printing original string\n",
        "print(\"The original string is : \" + string)\n",
        " \n",
        "# Removing punctuations in string\n",
        "# Using regex\n",
        "res = re.sub(r'[^\\w\\s]', '', string)\n",
        " \n",
        "# printing result\n",
        "print(\"The string after punctuation filter : \" + res)"
      ],
      "execution_count": null,
      "outputs": [
        {
          "output_type": "stream",
          "name": "stdout",
          "text": [
            "The original string is : “mereka bertanya,” bagaimana keadaanmu? “tapi sebenarnya yang mereka maksud adalah” apakah anda sudah mengatasinya? “bibir saya berkata,” baik, terima kasih “, tapi mataku menceritakan cerita yang berbeda, hatiku bernyanyi selaras, dan jiwaku hanya menangis.\n",
            "The string after punctuation filter : mereka bertanya bagaimana keadaanmu tapi sebenarnya yang mereka maksud adalah apakah anda sudah mengatasinya bibir saya berkata baik terima kasih  tapi mataku menceritakan cerita yang berbeda hatiku bernyanyi selaras dan jiwaku hanya menangis\n"
          ]
        }
      ]
    },
    {
      "cell_type": "markdown",
      "metadata": {
        "id": "tRKWU8ZJXrt8"
      },
      "source": [
        "Stemming"
      ]
    },
    {
      "cell_type": "code",
      "metadata": {
        "colab": {
          "base_uri": "https://localhost:8080/"
        },
        "id": "Zm4ANECeR7n7",
        "outputId": "17b5457a-92df-4ae1-d440-d5cfec74ca8a"
      },
      "source": [
        "# create stemmer\n",
        "factory = StemmerFactory()\n",
        "stemmer = factory.create_stemmer()\n",
        "\n",
        "# stemming process\n",
        "output   = stemmer.stem(res)\n",
        "\n",
        "print(output)"
      ],
      "execution_count": null,
      "outputs": [
        {
          "output_type": "stream",
          "name": "stdout",
          "text": [
            "mereka tanya bagaimana ada tapi benar yang mereka maksud adalah apakah anda sudah atas bibir saya kata baik terima kasih tapi mata cerita cerita yang beda hati nyanyi selaras dan jiwa hanya menang\n"
          ]
        }
      ]
    },
    {
      "cell_type": "markdown",
      "metadata": {
        "id": "quIj_CkNXssb"
      },
      "source": [
        "Tokenizer"
      ]
    },
    {
      "cell_type": "code",
      "metadata": {
        "colab": {
          "base_uri": "https://localhost:8080/"
        },
        "id": "ZmhfKxmJSZeS",
        "outputId": "4e35aa45-8c8b-4aff-e309-08cfbe48d5c1"
      },
      "source": [
        "string = output\n",
        "\n",
        "tokens = nltk.tokenize.word_tokenize(string)\n",
        "print('Hasil Tokenizing: \\n') \n",
        "print(tokens)"
      ],
      "execution_count": null,
      "outputs": [
        {
          "output_type": "stream",
          "name": "stdout",
          "text": [
            "Hasil Tokenizing: \n",
            "\n",
            "['mereka', 'tanya', 'bagaimana', 'ada', 'tapi', 'benar', 'yang', 'mereka', 'maksud', 'adalah', 'apakah', 'anda', 'sudah', 'atas', 'bibir', 'saya', 'kata', 'baik', 'terima', 'kasih', 'tapi', 'mata', 'cerita', 'cerita', 'yang', 'beda', 'hati', 'nyanyi', 'selaras', 'dan', 'jiwa', 'hanya', 'menang']\n"
          ]
        }
      ]
    }
  ]
}