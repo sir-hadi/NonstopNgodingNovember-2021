{
  "nbformat": 4,
  "nbformat_minor": 0,
  "metadata": {
    "colab": {
      "name": "Mqtt simple publish/subs.ipynb",
      "provenance": []
    },
    "kernelspec": {
      "name": "python3",
      "display_name": "Python 3"
    },
    "language_info": {
      "name": "python"
    }
  },
  "cells": [
    {
      "cell_type": "code",
      "metadata": {
        "colab": {
          "base_uri": "https://localhost:8080/"
        },
        "id": "6NLfVXDj7nU6",
        "outputId": "b0e5773e-ece8-4619-cef7-909c8de6e7b4"
      },
      "source": [
        "!pip install paho-mqtt"
      ],
      "execution_count": 1,
      "outputs": [
        {
          "output_type": "stream",
          "name": "stdout",
          "text": [
            "Collecting paho-mqtt\n",
            "  Downloading paho-mqtt-1.6.1.tar.gz (99 kB)\n",
            "\u001b[K     |████████████████████████████████| 99 kB 3.3 MB/s \n",
            "\u001b[?25hBuilding wheels for collected packages: paho-mqtt\n",
            "  Building wheel for paho-mqtt (setup.py) ... \u001b[?25l\u001b[?25hdone\n",
            "  Created wheel for paho-mqtt: filename=paho_mqtt-1.6.1-py3-none-any.whl size=62133 sha256=1d5636db2a003ea9b86a027d1fdd4f13695ec8061bb46f7364525d1f987f7785\n",
            "  Stored in directory: /root/.cache/pip/wheels/d0/bf/ac/2b3f43f8c6fcd0f4ba5395397458c521eb0b52d33b574a5a40\n",
            "Successfully built paho-mqtt\n",
            "Installing collected packages: paho-mqtt\n",
            "Successfully installed paho-mqtt-1.6.1\n"
          ]
        }
      ]
    },
    {
      "cell_type": "code",
      "metadata": {
        "id": "Zya8tJ587tSD"
      },
      "source": [
        "broker = 'broker.hivemq.com'\n",
        "port = 1883\n",
        "topic = \"MuteTopic\""
      ],
      "execution_count": 5,
      "outputs": []
    },
    {
      "cell_type": "code",
      "metadata": {
        "id": "iH9vS-lc8Ts2"
      },
      "source": [
        "import paho.mqtt.client as mqtt #import the client1\n",
        "import time\n",
        "from random import random, randint"
      ],
      "execution_count": 6,
      "outputs": []
    },
    {
      "cell_type": "code",
      "metadata": {
        "colab": {
          "base_uri": "https://localhost:8080/"
        },
        "id": "b_Msffna8Qvr",
        "outputId": "1dc98fbe-3ac9-4ca1-861c-93ffaae7402f"
      },
      "source": [
        "client = mqtt.Client(\"P1adasdadasda\") #create new instance\n",
        "client.connect(broker,port) #connect to broker"
      ],
      "execution_count": 7,
      "outputs": [
        {
          "output_type": "execute_result",
          "data": {
            "text/plain": [
              "0"
            ]
          },
          "metadata": {},
          "execution_count": 7
        }
      ]
    },
    {
      "cell_type": "code",
      "metadata": {
        "id": "-1hR_fua8hfU"
      },
      "source": [
        "while True:\n",
        "  client.publish(topic,randint(90,100))#publish\n",
        "  time.sleep(2)"
      ],
      "execution_count": null,
      "outputs": []
    },
    {
      "cell_type": "code",
      "metadata": {
        "id": "qE8lBuNU9KXC"
      },
      "source": [
        ""
      ],
      "execution_count": null,
      "outputs": []
    }
  ]
}