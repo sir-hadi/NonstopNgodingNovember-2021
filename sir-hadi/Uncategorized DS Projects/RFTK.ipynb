{
 "cells": [
  {
   "cell_type": "markdown",
   "metadata": {},
   "source": [
    "# Library TimeSeries\n",
    "Jadi ada dua library ditemukan untuk timeseries, dimana isinya nih library cuma model timeseries doang\n",
    "tapi yang satunya susah di intsall"
   ]
  },
  {
   "cell_type": "code",
   "execution_count": null,
   "metadata": {},
   "outputs": [],
   "source": [
    "!pip install pyts"
   ]
  },
  {
   "cell_type": "code",
   "execution_count": 16,
   "metadata": {},
   "outputs": [
    {
     "name": "stdout",
     "output_type": "stream",
     "text": [
      "Collecting sktime\n"
     ]
    },
    {
     "name": "stderr",
     "output_type": "stream",
     "text": [
      "  ERROR: Command errored out with exit status 1:\n",
      "   command: 'c:\\users\\hadi\\appdata\\local\\programs\\python\\python39\\python.exe' -u -c 'import io, os, sys, setuptools, tokenize; sys.argv[0] = '\"'\"'C:\\\\Users\\\\Hadi\\\\AppData\\\\Local\\\\Temp\\\\pip-install-w5gywpo7\\\\sktime_f9ec0181d63f4c7b9a35c294d357def6\\\\setup.py'\"'\"'; __file__='\"'\"'C:\\\\Users\\\\Hadi\\\\AppData\\\\Local\\\\Temp\\\\pip-install-w5gywpo7\\\\sktime_f9ec0181d63f4c7b9a35c294d357def6\\\\setup.py'\"'\"';f = getattr(tokenize, '\"'\"'open'\"'\"', open)(__file__) if os.path.exists(__file__) else io.StringIO('\"'\"'from setuptools import setup; setup()'\"'\"');code = f.read().replace('\"'\"'\\r\\n'\"'\"', '\"'\"'\\n'\"'\"');f.close();exec(compile(code, __file__, '\"'\"'exec'\"'\"'))' bdist_wheel -d 'C:\\Users\\Hadi\\AppData\\Local\\Temp\\pip-wheel-ga8ctspl'\n",
      "       cwd: C:\\Users\\Hadi\\AppData\\Local\\Temp\\pip-install-w5gywpo7\\sktime_f9ec0181d63f4c7b9a35c294d357def6\\\n",
      "  Complete output (21 lines):\n",
      "  Traceback (most recent call last):\n",
      "    File \"C:\\Users\\Hadi\\AppData\\Local\\Temp\\pip-install-w5gywpo7\\sktime_f9ec0181d63f4c7b9a35c294d357def6\\setup.py\", line 252, in check_package_status\n",
      "      module = importlib.import_module(package)\n",
      "    File \"c:\\users\\hadi\\appdata\\local\\programs\\python\\python39\\lib\\importlib\\__init__.py\", line 127, in import_module\n",
      "      return _bootstrap._gcd_import(name[level:], package, level)\n",
      "    File \"<frozen importlib._bootstrap>\", line 1030, in _gcd_import\n",
      "    File \"<frozen importlib._bootstrap>\", line 1007, in _find_and_load\n",
      "    File \"<frozen importlib._bootstrap>\", line 984, in _find_and_load_unlocked\n",
      "  ModuleNotFoundError: No module named 'statsmodels'\n",
      "  Traceback (most recent call last):\n",
      "    File \"<string>\", line 1, in <module>\n",
      "    File \"C:\\Users\\Hadi\\AppData\\Local\\Temp\\pip-install-w5gywpo7\\sktime_f9ec0181d63f4c7b9a35c294d357def6\\setup.py\", line 346, in <module>\n",
      "      setup_package()\n",
      "    File \"C:\\Users\\Hadi\\AppData\\Local\\Temp\\pip-install-w5gywpo7\\sktime_f9ec0181d63f4c7b9a35c294d357def6\\setup.py\", line 336, in setup_package\n",
      "      check_package_status(package, version)\n",
      "    File \"C:\\Users\\Hadi\\AppData\\Local\\Temp\\pip-install-w5gywpo7\\sktime_f9ec0181d63f4c7b9a35c294d357def6\\setup.py\", line 281, in check_package_status\n",
      "      raise ImportError(\n",
      "  ImportError: statsmodels is not installed.\n",
      "  sktime requires statsmodels >= 0.12.1.\n",
      "  Installation instructions are available on the sktime website: https://www.sktime.org/en/latest/installation.html\n",
      "  \n",
      "  ----------------------------------------\n",
      "  ERROR: Failed building wheel for sktime\n",
      "    ERROR: Command errored out with exit status 1:\n",
      "     command: 'c:\\users\\hadi\\appdata\\local\\programs\\python\\python39\\python.exe' -u -c 'import io, os, sys, setuptools, tokenize; sys.argv[0] = '\"'\"'C:\\\\Users\\\\Hadi\\\\AppData\\\\Local\\\\Temp\\\\pip-install-w5gywpo7\\\\sktime_f9ec0181d63f4c7b9a35c294d357def6\\\\setup.py'\"'\"'; __file__='\"'\"'C:\\\\Users\\\\Hadi\\\\AppData\\\\Local\\\\Temp\\\\pip-install-w5gywpo7\\\\sktime_f9ec0181d63f4c7b9a35c294d357def6\\\\setup.py'\"'\"';f = getattr(tokenize, '\"'\"'open'\"'\"', open)(__file__) if os.path.exists(__file__) else io.StringIO('\"'\"'from setuptools import setup; setup()'\"'\"');code = f.read().replace('\"'\"'\\r\\n'\"'\"', '\"'\"'\\n'\"'\"');f.close();exec(compile(code, __file__, '\"'\"'exec'\"'\"'))' install --record 'C:\\Users\\Hadi\\AppData\\Local\\Temp\\pip-record-68_9r13s\\install-record.txt' --single-version-externally-managed --compile --install-headers 'c:\\users\\hadi\\appdata\\local\\programs\\python\\python39\\Include\\sktime'\n",
      "         cwd: C:\\Users\\Hadi\\AppData\\Local\\Temp\\pip-install-w5gywpo7\\sktime_f9ec0181d63f4c7b9a35c294d357def6\\\n",
      "    Complete output (32 lines):\n",
      "    No module named 'numpy.distutils._msvccompiler' in numpy.distutils; trying from distutils\n",
      "    Traceback (most recent call last):\n",
      "      File \"<string>\", line 1, in <module>\n",
      "      File \"C:\\Users\\Hadi\\AppData\\Local\\Temp\\pip-install-w5gywpo7\\sktime_f9ec0181d63f4c7b9a35c294d357def6\\setup.py\", line 346, in <module>\n",
      "        setup_package()\n",
      "      File \"C:\\Users\\Hadi\\AppData\\Local\\Temp\\pip-install-w5gywpo7\\sktime_f9ec0181d63f4c7b9a35c294d357def6\\setup.py\", line 342, in setup_package\n",
      "        setup(**metadata)\n",
      "      File \"c:\\users\\hadi\\appdata\\local\\programs\\python\\python39\\lib\\site-packages\\numpy\\distutils\\core.py\", line 135, in setup\n",
      "        config = configuration()\n",
      "      File \"C:\\Users\\Hadi\\AppData\\Local\\Temp\\pip-install-w5gywpo7\\sktime_f9ec0181d63f4c7b9a35c294d357def6\\setup.py\", line 234, in configuration\n",
      "        config.add_subpackage(\"sktime\")\n",
      "      File \"c:\\users\\hadi\\appdata\\local\\programs\\python\\python39\\lib\\site-packages\\numpy\\distutils\\misc_util.py\", line 1018, in add_subpackage\n",
      "        config_list = self.get_subpackage(subpackage_name, subpackage_path,\n",
      "      File \"c:\\users\\hadi\\appdata\\local\\programs\\python\\python39\\lib\\site-packages\\numpy\\distutils\\misc_util.py\", line 984, in get_subpackage\n",
      "        config = self._get_configuration_from_setup_py(\n",
      "      File \"c:\\users\\hadi\\appdata\\local\\programs\\python\\python39\\lib\\site-packages\\numpy\\distutils\\misc_util.py\", line 926, in _get_configuration_from_setup_py\n",
      "        config = setup_module.configuration(*args)\n",
      "      File \"sktime\\setup.py\", line 29, in configuration\n",
      "        maybe_cythonize_extensions(top_path, config)\n",
      "      File \"C:\\Users\\Hadi\\AppData\\Local\\Temp\\pip-install-w5gywpo7\\sktime_f9ec0181d63f4c7b9a35c294d357def6\\sktime\\_build_utils\\__init__.py\", line 42, in maybe_cythonize_extensions\n",
      "        with_openmp = check_openmp_support()\n",
      "      File \"C:\\Users\\Hadi\\AppData\\Local\\Temp\\pip-install-w5gywpo7\\sktime_f9ec0181d63f4c7b9a35c294d357def6\\sktime\\_build_utils\\openmp_helpers.py\", line 88, in check_openmp_support\n",
      "        ccompiler.compile(\n",
      "      File \"c:\\users\\hadi\\appdata\\local\\programs\\python\\python39\\lib\\distutils\\_msvccompiler.py\", line 323, in compile\n",
      "        self.initialize()\n",
      "      File \"c:\\users\\hadi\\appdata\\local\\programs\\python\\python39\\lib\\distutils\\_msvccompiler.py\", line 220, in initialize\n",
      "        vc_env = _get_vc_env(plat_spec)\n",
      "      File \"c:\\users\\hadi\\appdata\\local\\programs\\python\\python39\\lib\\site-packages\\setuptools\\msvc.py\", line 313, in msvc14_get_vc_env\n",
      "        return _msvc14_get_vc_env(plat_spec)\n",
      "      File \"c:\\users\\hadi\\appdata\\local\\programs\\python\\python39\\lib\\site-packages\\setuptools\\msvc.py\", line 267, in _msvc14_get_vc_env\n",
      "        raise distutils.errors.DistutilsPlatformError(\n",
      "    distutils.errors.DistutilsPlatformError: Microsoft Visual C++ 14.0 or greater is required. Get it with \"Microsoft C++ Build Tools\": https://visualstudio.microsoft.com/visual-cpp-build-tools/"
     ]
    },
    {
     "name": "stdout",
     "output_type": "stream",
     "text": [
      "  Downloading sktime-0.8.1.tar.gz (11.1 MB)\n",
      "Requirement already satisfied: numpy>=1.19.3 in c:\\users\\hadi\\appdata\\local\\programs\\python\\python39\\lib\\site-packages (from sktime) (1.19.5)\n",
      "Requirement already satisfied: pandas>=1.1.0 in c:\\users\\hadi\\appdata\\local\\programs\\python\\python39\\lib\\site-packages (from sktime) (1.2.4)\n",
      "Requirement already satisfied: scikit-learn>=0.24.0 in c:\\users\\hadi\\appdata\\local\\programs\\python\\python39\\lib\\site-packages (from sktime) (0.24.2)\n",
      "Collecting statsmodels>=0.12.1\n",
      "  Downloading statsmodels-0.13.0-cp39-none-win_amd64.whl (9.4 MB)\n",
      "Requirement already satisfied: numba>=0.53 in c:\\users\\hadi\\appdata\\local\\programs\\python\\python39\\lib\\site-packages (from sktime) (0.54.1)\n",
      "Collecting statsmodels<=0.12.1\n",
      "  Downloading statsmodels-0.12.1-cp39-none-win_amd64.whl (9.4 MB)\n",
      "Requirement already satisfied: wheel in c:\\users\\hadi\\appdata\\local\\programs\\python\\python39\\lib\\site-packages (from sktime) (0.36.2)\n",
      "Requirement already satisfied: setuptools in c:\\users\\hadi\\appdata\\local\\programs\\python\\python39\\lib\\site-packages (from numba>=0.53->sktime) (56.0.0)\n",
      "Requirement already satisfied: llvmlite<0.38,>=0.37.0rc1 in c:\\users\\hadi\\appdata\\local\\programs\\python\\python39\\lib\\site-packages (from numba>=0.53->sktime) (0.37.0)\n",
      "Requirement already satisfied: pytz>=2017.3 in c:\\users\\hadi\\appdata\\local\\programs\\python\\python39\\lib\\site-packages (from pandas>=1.1.0->sktime) (2021.1)\n",
      "Requirement already satisfied: python-dateutil>=2.7.3 in c:\\users\\hadi\\appdata\\roaming\\python\\python39\\site-packages (from pandas>=1.1.0->sktime) (2.8.1)\n",
      "Requirement already satisfied: six>=1.5 in c:\\users\\hadi\\appdata\\local\\programs\\python\\python39\\lib\\site-packages (from python-dateutil>=2.7.3->pandas>=1.1.0->sktime) (1.15.0)\n",
      "Requirement already satisfied: scipy>=0.19.1 in c:\\users\\hadi\\appdata\\local\\programs\\python\\python39\\lib\\site-packages (from scikit-learn>=0.24.0->sktime) (1.6.3)\n",
      "Requirement already satisfied: threadpoolctl>=2.0.0 in c:\\users\\hadi\\appdata\\local\\programs\\python\\python39\\lib\\site-packages (from scikit-learn>=0.24.0->sktime) (2.1.0)\n",
      "Requirement already satisfied: joblib>=0.11 in c:\\users\\hadi\\appdata\\local\\programs\\python\\python39\\lib\\site-packages (from scikit-learn>=0.24.0->sktime) (1.0.1)\n",
      "Collecting patsy>=0.5\n",
      "  Downloading patsy-0.5.2-py2.py3-none-any.whl (233 kB)\n",
      "Building wheels for collected packages: sktime\n",
      "  Building wheel for sktime (setup.py): started\n",
      "  Building wheel for sktime (setup.py): finished with status 'error'\n",
      "  Running setup.py clean for sktime\n",
      "Failed to build sktime\n",
      "Installing collected packages: patsy, statsmodels, sktime\n",
      "    Running setup.py install for sktime: started\n",
      "    Running setup.py install for sktime: finished with status 'error'\n"
     ]
    },
    {
     "name": "stderr",
     "output_type": "stream",
     "text": [
      "\n",
      "    ----------------------------------------\n",
      "ERROR: Command errored out with exit status 1: 'c:\\users\\hadi\\appdata\\local\\programs\\python\\python39\\python.exe' -u -c 'import io, os, sys, setuptools, tokenize; sys.argv[0] = '\"'\"'C:\\\\Users\\\\Hadi\\\\AppData\\\\Local\\\\Temp\\\\pip-install-w5gywpo7\\\\sktime_f9ec0181d63f4c7b9a35c294d357def6\\\\setup.py'\"'\"'; __file__='\"'\"'C:\\\\Users\\\\Hadi\\\\AppData\\\\Local\\\\Temp\\\\pip-install-w5gywpo7\\\\sktime_f9ec0181d63f4c7b9a35c294d357def6\\\\setup.py'\"'\"';f = getattr(tokenize, '\"'\"'open'\"'\"', open)(__file__) if os.path.exists(__file__) else io.StringIO('\"'\"'from setuptools import setup; setup()'\"'\"');code = f.read().replace('\"'\"'\\r\\n'\"'\"', '\"'\"'\\n'\"'\"');f.close();exec(compile(code, __file__, '\"'\"'exec'\"'\"'))' install --record 'C:\\Users\\Hadi\\AppData\\Local\\Temp\\pip-record-68_9r13s\\install-record.txt' --single-version-externally-managed --compile --install-headers 'c:\\users\\hadi\\appdata\\local\\programs\\python\\python39\\Include\\sktime' Check the logs for full command output.\n",
      "WARNING: You are using pip version 21.1.1; however, version 21.3.1 is available.\n",
      "You should consider upgrading via the 'c:\\users\\hadi\\appdata\\local\\programs\\python\\python39\\python.exe -m pip install --upgrade pip' command.\n"
     ]
    }
   ],
   "source": [
    "# !pip install Cython\n",
    "# !pip install sktime[all_extras]"
   ]
  },
  {
   "cell_type": "markdown",
   "metadata": {},
   "source": [
    "# Ini Contoh pengunaannya pake dataset lain yang bentuknya dia waktu second kalo gak salah, but tanggal keknya bisa ini"
   ]
  },
  {
   "cell_type": "code",
   "execution_count": 2,
   "metadata": {},
   "outputs": [],
   "source": [
    "from pyts.datasets import load_gunpoint\n",
    "from pyts.classification import TimeSeriesForest\n",
    "X_train, X_test, y_train, y_test = load_gunpoint(return_X_y=True)"
   ]
  },
  {
   "cell_type": "code",
   "execution_count": 14,
   "metadata": {},
   "outputs": [
    {
     "data": {
      "text/plain": [
       "(50, 150)"
      ]
     },
     "execution_count": 14,
     "metadata": {},
     "output_type": "execute_result"
    }
   ],
   "source": [
    "X_train.shape"
   ]
  },
  {
   "cell_type": "code",
   "execution_count": 4,
   "metadata": {},
   "outputs": [
    {
     "data": {
      "text/plain": [
       "array([1, 2, 2, 1, 1, 2, 1, 2, 2, 1, 1, 1, 2, 1, 1, 1, 1, 2, 2, 2, 1, 2,\n",
       "       1, 1, 1, 2, 1, 1, 2, 1, 1, 2, 2, 1, 1, 1, 1, 1, 1, 2, 1, 2, 1, 1,\n",
       "       2, 1, 2, 2, 1, 2, 2, 2, 1, 2, 1, 1, 2, 2, 1, 2, 1, 2, 1, 1, 2, 1,\n",
       "       1, 2, 2, 2, 2, 2, 2, 2, 2, 2, 2, 2, 2, 1, 1, 1, 2, 2, 2, 2, 1, 2,\n",
       "       1, 1, 1, 2, 1, 2, 1, 1, 2, 2, 1, 1, 2, 1, 1, 2, 2, 1, 1, 2, 1, 2,\n",
       "       2, 2, 1, 2, 1, 1, 2, 1, 1, 2, 1, 2, 2, 2, 1, 2, 1, 1, 2, 2, 2, 2,\n",
       "       1, 1, 1, 2, 1, 2, 1, 1, 2, 1, 1, 2, 1, 2, 1, 2, 2, 1], dtype=int64)"
      ]
     },
     "execution_count": 4,
     "metadata": {},
     "output_type": "execute_result"
    }
   ],
   "source": [
    "y_test"
   ]
  },
  {
   "cell_type": "code",
   "execution_count": 15,
   "metadata": {},
   "outputs": [
    {
     "data": {
      "text/plain": [
       "0.9733333333333334"
      ]
     },
     "execution_count": 15,
     "metadata": {},
     "output_type": "execute_result"
    }
   ],
   "source": [
    "clf = TimeSeriesForest(random_state=43)\n",
    "clf.fit(X_train, y_train)\n",
    "\n",
    "clf.score(X_test, y_test)"
   ]
  },
  {
   "cell_type": "markdown",
   "metadata": {},
   "source": [
    "## Saving the model"
   ]
  },
  {
   "cell_type": "code",
   "execution_count": 32,
   "metadata": {},
   "outputs": [],
   "source": [
    "import pickle\n",
    "filename = 'finalized_model.p'\n",
    "pickle.dump(clf, open(filename, 'wb'))"
   ]
  },
  {
   "cell_type": "markdown",
   "metadata": {},
   "source": [
    "# Nah Sekarang Coba pake dataset yang udah di preprocess dan clean, tidak ada null value dan semua value berbentuk numerical (udah di encode)"
   ]
  },
  {
   "cell_type": "markdown",
   "metadata": {},
   "source": [
    "dan isinya cuma semua feature yang di buat modelnya aja"
   ]
  },
  {
   "cell_type": "code",
   "execution_count": 28,
   "metadata": {},
   "outputs": [],
   "source": [
    "from sklearn.model_selection import train_test_split\n",
    "\n",
    "X = ...\n",
    "y = ...\n",
    "X_train, X_test, y_train, y_test = train_test_split(X,y,test_size=0.2,random_state=5)"
   ]
  },
  {
   "cell_type": "code",
   "execution_count": null,
   "metadata": {},
   "outputs": [],
   "source": [
    "new_clf = TimeSeriesForest(random_state=43)\n",
    "new_clf.fit(X_train, y_train)\n",
    "\n",
    "new_clf.score(X_test, y_test)"
   ]
  }
 ],
 "metadata": {
  "interpreter": {
   "hash": "2ebfd388433f8d1f6f1a64ab02306285e618354c7d7b8de9bc9bf85e8ffeeee8"
  },
  "kernelspec": {
   "display_name": "Python 3.9.5 64-bit",
   "name": "python3"
  },
  "language_info": {
   "codemirror_mode": {
    "name": "ipython",
    "version": 3
   },
   "file_extension": ".py",
   "mimetype": "text/x-python",
   "name": "python",
   "nbconvert_exporter": "python",
   "pygments_lexer": "ipython3",
   "version": "3.9.5"
  },
  "orig_nbformat": 4
 },
 "nbformat": 4,
 "nbformat_minor": 2
}
